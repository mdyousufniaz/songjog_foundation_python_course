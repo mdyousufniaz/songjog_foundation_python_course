{
 "cells": [
  {
   "cell_type": "code",
   "execution_count": null,
   "metadata": {},
   "outputs": [
    {
     "name": "stdout",
     "output_type": "stream",
     "text": [
      "You are eligible for vote!\n"
     ]
    }
   ],
   "source": [
    "# simple if-else\n",
    "age = int(input(\"Enter Your Age: \"))\n",
    "\n",
    "print(\"You are\", end=' ')\n",
    "\n",
    "if age > 18: ...\n",
    "else: print(\"not\", end=' ')\n",
    "\n",
    "print(\"eligible for vote!\")"
   ]
  },
  {
   "cell_type": "code",
   "execution_count": 3,
   "metadata": {},
   "outputs": [
    {
     "name": "stdout",
     "output_type": "stream",
     "text": [
      "Grade: B\n"
     ]
    }
   ],
   "source": [
    "# use of elif block\n",
    "marks = 85\n",
    "\n",
    "if marks >= 90: print(\"Grade: A\")\n",
    "elif marks >=80: print(\"Grade: B\")\n",
    "elif marks >= 70: print(\"Grade: C\")\n",
    "else: print(\"Grade: F\")"
   ]
  },
  {
   "cell_type": "code",
   "execution_count": 4,
   "metadata": {},
   "outputs": [
    {
     "name": "stdout",
     "output_type": "stream",
     "text": [
      "You are not eligible to vote\n"
     ]
    }
   ],
   "source": [
    "# nested if-else statement\n",
    "\n",
    "age = 17\n",
    "citizenship = \"Yes\"\n",
    "\n",
    "if age >=18:\n",
    "  if citizenship == \"No\":\n",
    "    print(\"You are eligible to vote\")\n",
    "  else:\n",
    "    print(\"You are not a citizen, so you cannot vote\")\n",
    "else:\n",
    " print(\"You are not eligible to vote\")"
   ]
  },
  {
   "cell_type": "code",
   "execution_count": 5,
   "metadata": {},
   "outputs": [
    {
     "name": "stdout",
     "output_type": "stream",
     "text": [
      "Access granted\n"
     ]
    }
   ],
   "source": [
    "# using logical operator in if-else\n",
    "\n",
    "username = \"admin\"\n",
    "password = \"1234\"\n",
    "\n",
    "if username == \"admin\" and password ==\"1234\":\n",
    "  print(\"Access granted\")\n",
    "else:\n",
    "  print(\"Invalid credential\")"
   ]
  },
  {
   "cell_type": "code",
   "execution_count": null,
   "metadata": {},
   "outputs": [],
   "source": []
  }
 ],
 "metadata": {
  "kernelspec": {
   "display_name": ".venv",
   "language": "python",
   "name": "python3"
  },
  "language_info": {
   "codemirror_mode": {
    "name": "ipython",
    "version": 3
   },
   "file_extension": ".py",
   "mimetype": "text/x-python",
   "name": "python",
   "nbconvert_exporter": "python",
   "pygments_lexer": "ipython3",
   "version": "3.12.5"
  }
 },
 "nbformat": 4,
 "nbformat_minor": 2
}
