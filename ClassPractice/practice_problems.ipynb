{
 "cells": [
  {
   "cell_type": "code",
   "execution_count": 2,
   "metadata": {},
   "outputs": [
    {
     "name": "stdout",
     "output_type": "stream",
     "text": [
      "1 odd\n",
      "2 even\n",
      "3 odd\n",
      "4 even\n",
      "5 odd\n",
      "6 even\n",
      "36 even\n",
      "57 odd\n"
     ]
    }
   ],
   "source": [
    "#1 find even and odd numbers in a list\n",
    "\n",
    "numbers = [1, 2, 3, 4, 5, 6, 36, 57]\n",
    "\n",
    "for number in numbers:\n",
    "    print(number, end=' ')\n",
    "    if number & 1 == 0: print('even')\n",
    "    else: print('odd') \n"
   ]
  },
  {
   "cell_type": "code",
   "execution_count": 3,
   "metadata": {},
   "outputs": [
    {
     "name": "stdout",
     "output_type": "stream",
     "text": [
      "positive_numbers = [15, 25, 35]\n"
     ]
    }
   ],
   "source": [
    "#2 filter out all poisitive numbers from a list\n",
    "\n",
    "numbers = [-10, 15, -20, 25, -30, 35]\n",
    "positive_numbers = []\n",
    "\n",
    "for number in numbers:\n",
    "    if number >= 0: positive_numbers.append(number)\n",
    "\n",
    "print(f\"{positive_numbers = }\")\n"
   ]
  },
  {
   "cell_type": "code",
   "execution_count": 4,
   "metadata": {},
   "outputs": [
    {
     "name": "stdout",
     "output_type": "stream",
     "text": [
      "even_sum = 42\n"
     ]
    }
   ],
   "source": [
    "#3 summation of even numbers in a list\n",
    "\n",
    "numbers = [1, 2, 3, 4, 36, 57]\n",
    "even_sum = 0\n",
    "\n",
    "for number in numbers:\n",
    "    if number & 1 != 1: even_sum += number\n",
    "\n",
    "print(f\"{even_sum = }\")"
   ]
  },
  {
   "cell_type": "code",
   "execution_count": null,
   "metadata": {},
   "outputs": [
    {
     "name": "stdout",
     "output_type": "stream",
     "text": [
      "Too Low!\n",
      "Too Low!\n",
      "Too Low!\n",
      "Too Low!\n",
      "Too Low!\n",
      "Sorry, Your attempts are over!\n"
     ]
    }
   ],
   "source": [
    "#4 guessing game\n",
    "\n",
    "from random import randint\n",
    "\n",
    "attempt = 5\n",
    "target = randint(1, 10)\n",
    "\n",
    "for _ in range(attempt):\n",
    "    guess = int(input(\"Enter Your Guess: \"))\n",
    "\n",
    "    if guess > target: print(\"Too High!\")\n",
    "    elif guess < target: print(\"Too Low!\")\n",
    "    else:\n",
    "        print(\"Congratulations, You Won!\")\n",
    "        break\n",
    "else: print('Sorry, Your attempts are over!')"
   ]
  },
  {
   "cell_type": "code",
   "execution_count": 7,
   "metadata": {},
   "outputs": [
    {
     "name": "stdout",
     "output_type": "stream",
     "text": [
      "largest_number = 300\n"
     ]
    }
   ],
   "source": [
    "#5 filtering out the largest number in a list\n",
    "\n",
    "numbers = [10, 105, 20, 25, 300, 35]\n",
    "largest_number = numbers[0]\n",
    "\n",
    "for number in numbers[1:]:\n",
    "    if number > largest_number: largest_number = number\n",
    "\n",
    "print(f\"{largest_number = }\")"
   ]
  },
  {
   "cell_type": "code",
   "execution_count": 8,
   "metadata": {},
   "outputs": [
    {
     "name": "stdout",
     "output_type": "stream",
     "text": [
      "vowel_count = 4\n"
     ]
    }
   ],
   "source": [
    "#6 counting the number of vowels in a string\n",
    "\n",
    "VOWELS = 'AEIOU'\n",
    "\n",
    "text = \"python prOgrammIng\"\n",
    "vowel_count = 0\n",
    "\n",
    "for ch in text:\n",
    "    if ch in VOWELS + VOWELS.lower(): vowel_count += 1\n",
    "\n",
    "print(f\"{vowel_count = }\")"
   ]
  },
  {
   "cell_type": "code",
   "execution_count": 9,
   "metadata": {},
   "outputs": [
    {
     "name": "stdout",
     "output_type": "stream",
     "text": [
      "unique_numbers = [1, 2, 3, 4, 5, 6]\n"
     ]
    }
   ],
   "source": [
    "#7 removing duplicate elements from a list\n",
    "\n",
    "numbers = [1, 1, 2, 3, 3, 3, 4, 5, 6]\n",
    "unique_numbers = numbers[:1]\n",
    "\n",
    "for number in numbers:\n",
    "    if number not in unique_numbers: unique_numbers.append(number)\n",
    "\n",
    "print(f\"{unique_numbers = }\")\n"
   ]
  },
  {
   "cell_type": "code",
   "execution_count": 2,
   "metadata": {},
   "outputs": [
    {
     "name": "stdout",
     "output_type": "stream",
     "text": [
      "smallest_number = -1\n"
     ]
    }
   ],
   "source": [
    "#8 finding the smallest number in a list\n",
    "numbers = [34, 12, 25, 89, 10, -1]\n",
    "smallest_number = numbers[0]\n",
    "\n",
    "for number in numbers:\n",
    "    if number < smallest_number: smallest_number = number\n",
    "\n",
    "print(f\"{smallest_number = }\")"
   ]
  },
  {
   "cell_type": "code",
   "execution_count": 4,
   "metadata": {},
   "outputs": [
    {
     "name": "stdout",
     "output_type": "stream",
     "text": [
      "target was not found in the list\n"
     ]
    }
   ],
   "source": [
    "#9 finding the index of the target value\n",
    "numbers = [34, 12, 25, 89, 10, -1]\n",
    "target = 10\n",
    "\n",
    "for index, number in enumerate(numbers):\n",
    "    if number == target:\n",
    "        print(f\"target index: {index}\")\n",
    "        break\n",
    "else: print(\"target was not found in the list\")"
   ]
  },
  {
   "cell_type": "code",
   "execution_count": 5,
   "metadata": {},
   "outputs": [
    {
     "name": "stdout",
     "output_type": "stream",
     "text": [
      "Reversed string: dlroWolleH\n"
     ]
    }
   ],
   "source": [
    "#10 string reversing\n",
    "\n",
    "string = 'HelloWorld'\n",
    "print(f\"Reversed string: {string[::-1]}\")"
   ]
  },
  {
   "cell_type": "code",
   "execution_count": null,
   "metadata": {},
   "outputs": [],
   "source": []
  }
 ],
 "metadata": {
  "kernelspec": {
   "display_name": ".venv",
   "language": "python",
   "name": "python3"
  },
  "language_info": {
   "codemirror_mode": {
    "name": "ipython",
    "version": 3
   },
   "file_extension": ".py",
   "mimetype": "text/x-python",
   "name": "python",
   "nbconvert_exporter": "python",
   "pygments_lexer": "ipython3",
   "version": "3.12.5"
  }
 },
 "nbformat": 4,
 "nbformat_minor": 2
}
