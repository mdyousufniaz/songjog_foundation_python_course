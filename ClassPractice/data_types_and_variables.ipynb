{
 "cells": [
  {
   "cell_type": "code",
   "execution_count": 1,
   "metadata": {},
   "outputs": [
    {
     "name": "stdout",
     "output_type": "stream",
     "text": [
      "3 <class 'int'>\n",
      "(3+5j) <class 'complex'>\n",
      "4.5 <class 'float'>\n"
     ]
    }
   ],
   "source": [
    "# basic data types\n",
    "a = 3\n",
    "b = 3 + 5j\n",
    "c = 4.5\n",
    "\n",
    "print(a, type(a))\n",
    "print(b, type(b))\n",
    "print(c, type(c))"
   ]
  },
  {
   "cell_type": "code",
   "execution_count": 5,
   "metadata": {},
   "outputs": [
    {
     "name": "stdout",
     "output_type": "stream",
     "text": [
      "Dhaka\n",
      "Dhaka\n"
     ]
    },
    {
     "data": {
      "text/plain": [
       "{3: 'Rajshahi'}"
      ]
     },
     "execution_count": 5,
     "metadata": {},
     "output_type": "execute_result"
    }
   ],
   "source": [
    "# dictionary\n",
    "\n",
    "a = {\n",
    "    1: 'Dhaka',\n",
    "    2: 'Khulna'\n",
    "}\n",
    "\n",
    "print(a[1])\n",
    "\n",
    "a[3] = 'Rajshahi'\n",
    "\n",
    "print(a.pop(1))\n",
    "\n",
    "del a[2]\n",
    "\n",
    "a\n",
    " "
   ]
  },
  {
   "cell_type": "code",
   "execution_count": 6,
   "metadata": {},
   "outputs": [
    {
     "name": "stdout",
     "output_type": "stream",
     "text": [
      "Gulshan\n"
     ]
    }
   ],
   "source": [
    "# nested dictionary\n",
    "b = {\n",
    "    1: '',\n",
    "    2: 100,\n",
    "    3: {\n",
    "        'A': 'Badda',\n",
    "        'B': 'Gulshan'\n",
    "    }\n",
    "}\n",
    "\n",
    "print(b[3]['B'])"
   ]
  },
  {
   "cell_type": "code",
   "execution_count": 7,
   "metadata": {},
   "outputs": [
    {
     "name": "stdout",
     "output_type": "stream",
     "text": [
      "<class 'bool'>\n"
     ]
    }
   ],
   "source": [
    "# boolean data type\n",
    "a = True\n",
    "b = False\n",
    "print(type(a))"
   ]
  },
  {
   "cell_type": "code",
   "execution_count": 14,
   "metadata": {},
   "outputs": [
    {
     "name": "stdout",
     "output_type": "stream",
     "text": [
      "{'Pakistan', 'Bangladesh', 'Afganistan'}\n"
     ]
    },
    {
     "data": {
      "text/plain": [
       "{'Bangladesh', 'Pakistan'}"
      ]
     },
     "execution_count": 14,
     "metadata": {},
     "output_type": "execute_result"
    }
   ],
   "source": [
    "# set\n",
    "a = set(('Bangladesh',))\n",
    "\n",
    "a.add('Pakistan')\n",
    "a.add('Afganistan')\n",
    "print(a)\n",
    "a.discard('Afganistan')\n",
    "a"
   ]
  },
  {
   "cell_type": "code",
   "execution_count": 15,
   "metadata": {},
   "outputs": [
    {
     "name": "stdout",
     "output_type": "stream",
     "text": [
      "{1, 2, 3, 4, 5}\n"
     ]
    },
    {
     "data": {
      "text/plain": [
       "{1, 2, 3, 4, 5, 6}"
      ]
     },
     "execution_count": 15,
     "metadata": {},
     "output_type": "execute_result"
    }
   ],
   "source": [
    "#set of integers\n",
    "i = set([1, 2, 3, 4, 5])\n",
    "print(i)\n",
    "i.add(6)\n",
    "i"
   ]
  },
  {
   "cell_type": "code",
   "execution_count": 16,
   "metadata": {},
   "outputs": [
    {
     "name": "stdout",
     "output_type": "stream",
     "text": [
      "{1.5, 3, 'Hello', True} <class 'set'>\n"
     ]
    }
   ],
   "source": [
    "# declaring set: alternative way\n",
    "s = {1.5, 3, True, \"Hello\"}\n",
    "print(s, type(s))"
   ]
  },
  {
   "cell_type": "code",
   "execution_count": 36,
   "metadata": {},
   "outputs": [
    {
     "name": "stdout",
     "output_type": "stream",
     "text": [
      "Bangladesh <class 'str'>\n",
      "l g\n",
      "Bangla Bangla desh desh\n",
      "Dangladesh\n",
      "10\n",
      "DHAKA bangladesh\n",
      "python python python python python \n",
      "\n",
      "This is line 1\n",
      "This is line 2\n",
      "\n"
     ]
    }
   ],
   "source": [
    "# string\n",
    "s = \"Bangladesh\"\n",
    "print(s, type(s))\n",
    "\n",
    "# accessing character with index\n",
    "print(s[4], s[-7])\n",
    "\n",
    "# slicing\n",
    "print(\n",
    "    s[0:6],\n",
    "    s[:6],\n",
    "    s[6:],\n",
    "    s[-4:]\n",
    ")\n",
    "\n",
    "# reversing the string\n",
    "s[::-1]\n",
    "\n",
    "# s[0] = 'D' // it will show error!\n",
    "print('D' + s[1:])\n",
    "\n",
    "# del s to delete s\n",
    "# print(s)\n",
    "\n",
    "print(len(s))\n",
    "\n",
    "# string methods\n",
    "text = \"Dhaka is the capital of bangladesh\"\n",
    "text = text.replace('bangladesh', 'Bangladesh')\n",
    "text\n",
    "\n",
    "dhaka, bangladesh = 'dhaka', 'BANGLADESH'\n",
    "print(dhaka.upper(), bangladesh.lower())\n",
    "\n",
    "# string multipication & multi line str\n",
    "\n",
    "print('python ' * 5)\n",
    "\n",
    "multi_text = \"\"\"\n",
    "This is line 1\n",
    "This is line 2\n",
    "\"\"\"\n",
    "print(multi_text)"
   ]
  },
  {
   "cell_type": "code",
   "execution_count": 38,
   "metadata": {},
   "outputs": [
    {
     "name": "stdout",
     "output_type": "stream",
     "text": [
      "Name: Mr. X, Age: 100\n",
      "Name: Mr. X, Age: 100\n"
     ]
    }
   ],
   "source": [
    "# string formatting\n",
    "name = 'Mr. X'\n",
    "age = 100\n",
    "print(f\"Name: {name}, Age: {age}\")\n",
    "print(\"Name: {}, Age: {}\".format(name, age))"
   ]
  },
  {
   "cell_type": "code",
   "execution_count": 50,
   "metadata": {},
   "outputs": [
    {
     "name": "stdout",
     "output_type": "stream",
     "text": [
      "False\n",
      "[5, 5, 5, 5, 5]\n",
      "[1, 2.5, 'str', False, 6]\n",
      "['at_first', 1, 2.5, 'str', False, 6]\n",
      "['at_first', 1, 2.5, 'str', False, 6, 99, 100]\n",
      "[1, 2.5, 'str', False, 6, 100]\n"
     ]
    }
   ],
   "source": [
    "# lists\n",
    "l = [1, 2.5, 'str', False]\n",
    "print(l[3])\n",
    "\n",
    "print([5] * 5) # * operator\n",
    "\n",
    "l.append(6)\n",
    "print(l)\n",
    "\n",
    "l.insert(0, 'at_first')\n",
    "print(l)\n",
    "\n",
    "l.extend((99, 100))\n",
    "print(l)\n",
    "\n",
    "l.remove(99)\n",
    "l.pop(0)\n",
    "print(l)\n"
   ]
  },
  {
   "cell_type": "code",
   "execution_count": 54,
   "metadata": {},
   "outputs": [
    {
     "name": "stdout",
     "output_type": "stream",
     "text": [
      "() <class 'tuple'>\n",
      "1 (2, 3, 4)\n"
     ]
    },
    {
     "data": {
      "text/plain": [
       "(1, 2, 3, 4)"
      ]
     },
     "execution_count": 54,
     "metadata": {},
     "output_type": "execute_result"
    }
   ],
   "source": [
    "# tuple\n",
    "t_1 = ()\n",
    "print(t_1, type(t_1))\n",
    "\n",
    "t_2 = 1, 2, 3, 4\n",
    "print(t_2[0], t_2[1:])\n",
    "\n",
    "t_3 = t_1 + t_2\n",
    "t_3\n",
    "\n"
   ]
  }
 ],
 "metadata": {
  "kernelspec": {
   "display_name": ".venv",
   "language": "python",
   "name": "python3"
  },
  "language_info": {
   "codemirror_mode": {
    "name": "ipython",
    "version": 3
   },
   "file_extension": ".py",
   "mimetype": "text/x-python",
   "name": "python",
   "nbconvert_exporter": "python",
   "pygments_lexer": "ipython3",
   "version": "3.12.5"
  }
 },
 "nbformat": 4,
 "nbformat_minor": 2
}
