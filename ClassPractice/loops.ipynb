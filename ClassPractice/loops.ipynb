{
 "cells": [
  {
   "cell_type": "code",
   "execution_count": 7,
   "metadata": {},
   "outputs": [
    {
     "name": "stdout",
     "output_type": "stream",
     "text": [
      "box\n",
      "pen\n",
      "pencil\n",
      "B a n g l a d e s h "
     ]
    }
   ],
   "source": [
    "# for loop\n",
    "ITEMS = 'box', 'pen', 'pencil'\n",
    "\n",
    "for item in ITEMS: print(item) # looping through iterable\n",
    "\n",
    "for ch in 'Bangladesh': print(ch, end=' ') # looping through string"
   ]
  },
  {
   "cell_type": "code",
   "execution_count": 8,
   "metadata": {},
   "outputs": [
    {
     "name": "stdout",
     "output_type": "stream",
     "text": [
      "box\n",
      "pen\n"
     ]
    }
   ],
   "source": [
    "for item in ITEMS:\n",
    "    if item == 'pencil': break # using break to break out of loop\n",
    "    print(item)"
   ]
  },
  {
   "cell_type": "code",
   "execution_count": 5,
   "metadata": {},
   "outputs": [
    {
     "name": "stdout",
     "output_type": "stream",
     "text": [
      "book\n",
      "eraser\n"
     ]
    }
   ],
   "source": [
    "NEW_ITEMS = 'table', 'chair', 'book', 'eraser'\n",
    "\n",
    "for item in NEW_ITEMS:\n",
    "    if item in NEW_ITEMS[:2]: continue # using continue to only print study materials\n",
    "    print(item)"
   ]
  },
  {
   "cell_type": "code",
   "execution_count": 9,
   "metadata": {},
   "outputs": [
    {
     "name": "stdout",
     "output_type": "stream",
     "text": [
      "0 1 2 3 4 5 6 7 8 9 10 "
     ]
    }
   ],
   "source": [
    "# using range\n",
    "START, STOP, STEP = 0, 11, 1\n",
    "\n",
    "for number in range(START, STOP, STEP): print(number, end=' ')"
   ]
  },
  {
   "cell_type": "code",
   "execution_count": 10,
   "metadata": {},
   "outputs": [
    {
     "name": "stdout",
     "output_type": "stream",
     "text": [
      "11 12 13 14 15 \n",
      "21 22 23 24 25 \n",
      "31 32 33 34 35 \n",
      "41 42 43 44 45 \n",
      "51 52 53 54 55 \n"
     ]
    }
   ],
   "source": [
    "# using nested loop\n",
    "\n",
    "for row in range(1, 6):\n",
    "    for col in range(1, 6):\n",
    "        print(f\"{row}{col}\", end=' ')\n",
    "    print()"
   ]
  },
  {
   "cell_type": "code",
   "execution_count": 2,
   "metadata": {},
   "outputs": [
    {
     "name": "stdout",
     "output_type": "stream",
     "text": [
      "2 4 6 8 10 "
     ]
    }
   ],
   "source": [
    "# using while loop\n",
    "\n",
    "number = 0\n",
    "while number <= 10:\n",
    "    number += 1\n",
    "    if number & 1 == 1: continue # using continue to filter out even numbers\n",
    "    print(number, end=' ')\n",
    "    "
   ]
  }
 ],
 "metadata": {
  "kernelspec": {
   "display_name": ".venv",
   "language": "python",
   "name": "python3"
  },
  "language_info": {
   "codemirror_mode": {
    "name": "ipython",
    "version": 3
   },
   "file_extension": ".py",
   "mimetype": "text/x-python",
   "name": "python",
   "nbconvert_exporter": "python",
   "pygments_lexer": "ipython3",
   "version": "3.12.5"
  }
 },
 "nbformat": 4,
 "nbformat_minor": 2
}
