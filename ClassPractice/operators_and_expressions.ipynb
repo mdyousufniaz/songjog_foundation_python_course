{
 "cells": [
  {
   "cell_type": "code",
   "execution_count": 2,
   "metadata": {},
   "outputs": [
    {
     "name": "stdout",
     "output_type": "stream",
     "text": [
      "Addition: 5\n",
      "Sub: -1\n",
      "Multiplication: 6\n",
      "Division: 0.6666666666666666\n",
      "Modulus: 2\n",
      "Exponentiation: 8\n",
      "Floor division:  0\n"
     ]
    }
   ],
   "source": [
    "# arithmatic operators\n",
    "x = int(input(\"Enter x:\"))\n",
    "y = int(input(\"Enter y:\"))\n",
    "\n",
    "print(\"Addition:\", x + y)\n",
    "print(\"Sub:\", x - y)\n",
    "print(\"Multiplication:\", x * y)\n",
    "print(\"Division:\", x / y)\n",
    "print(\"Modulus:\", x % y)\n",
    "print(\"Exponentiation:\", x**y) #like power\n",
    "print(\"Floor division: \", x // y) # it will take floor value"
   ]
  },
  {
   "cell_type": "code",
   "execution_count": 6,
   "metadata": {},
   "outputs": [
    {
     "data": {
      "text/plain": [
       "5.0"
      ]
     },
     "execution_count": 6,
     "metadata": {},
     "output_type": "execute_result"
    }
   ],
   "source": [
    "# assingment operators\n",
    "x = 5\n",
    "x += 1 # x = 6\n",
    "x -= 1 # x = 5\n",
    "x *= 5 # x = 25\n",
    "x /= 5 # x = 5\n",
    "x %= 3 # x = 2\n",
    "x **= 4 # x = 16\n",
    "x //= 3 # x = 5.33... as floor divison x = 5\n",
    "x"
   ]
  },
  {
   "cell_type": "code",
   "execution_count": 10,
   "metadata": {},
   "outputs": [
    {
     "name": "stdout",
     "output_type": "stream",
     "text": [
      "x = 2, y = 3\n",
      "x == y: False\n",
      "x != y: True\n",
      "x > y: False\n",
      "x >= y: False\n",
      "x < y: True\n",
      "x <= y: True\n"
     ]
    }
   ],
   "source": [
    "# comparison operators\n",
    "\n",
    "x, y = 2, 3\n",
    "print(\n",
    "    f\"{x = }, {y = }\",\n",
    "    f\"x == y: {x == y}\",\n",
    "    f\"x != y: {x != y}\",\n",
    "    f\"x > y: {x > y}\",\n",
    "    f\"x >= y: {x >= y}\",\n",
    "    f\"x < y: {x < y}\",\n",
    "    f\"x <= y: {x <= y}\",\n",
    "    sep='\\n'\n",
    ")"
   ]
  },
  {
   "cell_type": "code",
   "execution_count": 11,
   "metadata": {},
   "outputs": [
    {
     "name": "stdout",
     "output_type": "stream",
     "text": [
      "x = 5, y = 10\n",
      "x > 10 and y < 10: False\n",
      "x < 10 or y < 10: False\n",
      "not(x > 10): True\n"
     ]
    }
   ],
   "source": [
    "# logical operators\n",
    "\n",
    "x, y = 5, 10\n",
    "print(\n",
    "    f\"{x = }, {y = }\",\n",
    "    f\"x > 10 and y < 10: {x > 10 and y < 10}\",\n",
    "    f\"x < 10 or y < 10: {x > 10 or y < 10}\",\n",
    "    f\"not(x > 10): {not(x > 10)}\",\n",
    "    sep='\\n'\n",
    "\n",
    ")"
   ]
  },
  {
   "cell_type": "code",
   "execution_count": 28,
   "metadata": {},
   "outputs": [
    {
     "name": "stdout",
     "output_type": "stream",
     "text": [
      "x = 0b0011, y = 0b0111\n",
      "x & y: 0b0011\n",
      "x | y: 0b0111\n",
      "x ^ y: 0b0100\n",
      "~x: -0b0100\n",
      "x << 1: 0b0110\n",
      "x >> 1: 0b0001\n"
     ]
    }
   ],
   "source": [
    "# bitwise operators\n",
    "\n",
    "x, y = 3, 7\n",
    "BIN_FMT = \"#06b\"  # Format specifier for binary with leading 0b\n",
    "print(\n",
    "    f\"x = {x:{BIN_FMT}}, y = {y:{BIN_FMT}}\",\n",
    "    f\"x & y: {x & y:{BIN_FMT}}\",\n",
    "    f\"x | y: {x | y:{BIN_FMT}}\",\n",
    "    f\"x ^ y: {x ^ y:{BIN_FMT}}\",\n",
    "    f\"~x: {~x:#07b}\",\n",
    "    f\"x << 1: {x << 1:{BIN_FMT}}\",\n",
    "    f\"x >> 1: {x >> 1:{BIN_FMT}}\",\n",
    "    sep='\\n'\n",
    ")\n",
    "\n"
   ]
  },
  {
   "cell_type": "code",
   "execution_count": 33,
   "metadata": {},
   "outputs": [
    {
     "name": "stdout",
     "output_type": "stream",
     "text": [
      "x is y: False\n",
      "y is not z: False\n"
     ]
    }
   ],
   "source": [
    "# identity operators\n",
    "x, y = [12], [12]\n",
    "z = y\n",
    "print(\n",
    "    f\"x is y: {x is y}\",\n",
    "    f\"y is not z: {z is not y}\",\n",
    "    sep='\\n'\n",
    ")"
   ]
  },
  {
   "cell_type": "code",
   "execution_count": 35,
   "metadata": {},
   "outputs": [
    {
     "name": "stdout",
     "output_type": "stream",
     "text": [
      "1 in x: True\n",
      "6 in x: False\n"
     ]
    }
   ],
   "source": [
    "# membership operators\n",
    "x = 1, 2, 3, 4, 5\n",
    "print(\n",
    "    f\"1 in x: {1 in x}\",\n",
    "    f\"6 in x: {6 in x}\",\n",
    "    sep='\\n'\n",
    ")"
   ]
  }
 ],
 "metadata": {
  "kernelspec": {
   "display_name": ".venv",
   "language": "python",
   "name": "python3"
  },
  "language_info": {
   "codemirror_mode": {
    "name": "ipython",
    "version": 3
   },
   "file_extension": ".py",
   "mimetype": "text/x-python",
   "name": "python",
   "nbconvert_exporter": "python",
   "pygments_lexer": "ipython3",
   "version": "3.12.5"
  }
 },
 "nbformat": 4,
 "nbformat_minor": 2
}
