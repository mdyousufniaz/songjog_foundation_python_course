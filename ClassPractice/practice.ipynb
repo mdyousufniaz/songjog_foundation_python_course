{
 "cells": [
  {
   "cell_type": "code",
   "execution_count": 5,
   "metadata": {},
   "outputs": [
    {
     "name": "stdout",
     "output_type": "stream",
     "text": [
      "[{'a': 5}, {'b': 2}]\n"
     ]
    },
    {
     "data": {
      "text/plain": [
       "[{'a': 1}, {'b': 2}, {'c': 3}]"
      ]
     },
     "execution_count": 5,
     "metadata": {},
     "output_type": "execute_result"
    }
   ],
   "source": [
    "def get_dicts():\n",
    "    return [\n",
    "        {'a': 1},\n",
    "        {'b': 2},\n",
    "        {'c': 3}\n",
    "    ]\n",
    "\n",
    "def get_some_dicts():\n",
    "    return get_dicts()[:-1]\n",
    "\n",
    "dicts_1 = get_some_dicts()\n",
    "dicts_2 = get_dicts()\n",
    "dicts_1[0]['a'] = 5\n",
    "\n",
    "print(dicts_1)\n",
    "dicts_2"
   ]
  },
  {
   "cell_type": "code",
   "execution_count": null,
   "metadata": {},
   "outputs": [],
   "source": []
  }
 ],
 "metadata": {
  "kernelspec": {
   "display_name": ".venv",
   "language": "python",
   "name": "python3"
  },
  "language_info": {
   "codemirror_mode": {
    "name": "ipython",
    "version": 3
   },
   "file_extension": ".py",
   "mimetype": "text/x-python",
   "name": "python",
   "nbconvert_exporter": "python",
   "pygments_lexer": "ipython3",
   "version": "3.12.5"
  }
 },
 "nbformat": 4,
 "nbformat_minor": 2
}
