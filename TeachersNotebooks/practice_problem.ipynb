{
  "nbformat": 4,
  "nbformat_minor": 0,
  "metadata": {
    "colab": {
      "provenance": []
    },
    "kernelspec": {
      "name": "python3",
      "display_name": "Python 3"
    },
    "language_info": {
      "name": "python"
    }
  },
  "cells": [
    {
      "cell_type": "code",
      "source": [
        "# Problem 1: Find even numbers in a list\n",
        "\n",
        "numbers  = [1,2,3,4,5,6]\n",
        "\n",
        "for var in numbers:\n",
        "  if var%2 == 0:   # modulos (%)\n",
        "   print(\"even\")\n",
        "  else:\n",
        "    print(\"odd\")\n"
      ],
      "metadata": {
        "colab": {
          "base_uri": "https://localhost:8080/"
        },
        "id": "pZGY0fdMJtCO",
        "outputId": "cf5a7ddf-7166-4f32-ccf2-3e6403ddbb8d"
      },
      "execution_count": 4,
      "outputs": [
        {
          "output_type": "stream",
          "name": "stdout",
          "text": [
            "odd\n",
            "even\n",
            "odd\n",
            "even\n",
            "odd\n",
            "even\n"
          ]
        }
      ]
    },
    {
      "cell_type": "code",
      "source": [
        "# filter out all negative numbers from list (all positive number)\n",
        "\n",
        "numbers = [-10,15,-20,25,-30,35]\n",
        "positive_numbers= []  #empty\n",
        "\n",
        "\n",
        "for var in numbers:\n",
        "  if var>=0:\n",
        "    positive_numbers.append(var)  # positive_numbers= [15] -> 1st iteration then in 2nd iteration positive_numbers= [15,25], 3rd iteration positive_numbers= [15,25,35]\n",
        "\n",
        "print(\"positive numbers:\", positive_numbers)\n",
        "\n"
      ],
      "metadata": {
        "colab": {
          "base_uri": "https://localhost:8080/"
        },
        "id": "V8OQmwvJLTmU",
        "outputId": "c15fdf28-8fe4-476f-927a-a88df6d35498"
      },
      "execution_count": 13,
      "outputs": [
        {
          "output_type": "stream",
          "name": "stdout",
          "text": [
            "positive numbers: [15, 25, 35]\n"
          ]
        }
      ]
    },
    {
      "cell_type": "code",
      "source": [
        "#summation(sum or addition) of even numbers\n",
        "\n",
        "numbers  = [1,2,3,4,5,6]\n",
        "sum = 0 # value 0\n",
        "\n",
        "for var in numbers:\n",
        "  if var%2 == 0:   # modulos (%)\n",
        "      sum+=var  #sum_even=sum_even+var -> sum_even=0+2=2 , sum_even=2+4 =6, sum_even=6+6=12\n",
        "print(\"Sum of even numbers: \", sum)\n",
        "\n"
      ],
      "metadata": {
        "colab": {
          "base_uri": "https://localhost:8080/"
        },
        "id": "DoA6MA_IRWVK",
        "outputId": "5c45cf96-b3a8-4ed3-af2e-752a41fbb84d"
      },
      "execution_count": 15,
      "outputs": [
        {
          "output_type": "stream",
          "name": "stdout",
          "text": [
            "Sum of even numbers:  12\n"
          ]
        }
      ]
    },
    {
      "cell_type": "code",
      "source": [
        "\n",
        "# 1,2,3,4,5,6,7,8,9,10\n",
        "sum=0\n",
        "for var in range(1,11):\n",
        "   if var%2 == 0:   # modulos (%)\n",
        "      sum+=var  #sum_even=sum_even+var -> sum_even=0+2=2 , sum_even=2+4 =6, sum_even=6+6=12\n",
        "print(\"Sum of even numbers: \", sum)"
      ],
      "metadata": {
        "colab": {
          "base_uri": "https://localhost:8080/"
        },
        "id": "bQvSaVmPT_oO",
        "outputId": "5739ff96-3a4d-4338-feb6-1b79911a55ec"
      },
      "execution_count": 17,
      "outputs": [
        {
          "output_type": "stream",
          "name": "stdout",
          "text": [
            "Sum of even numbers:  30\n"
          ]
        }
      ]
    },
    {
      "cell_type": "code",
      "source": [
        "# guessing game\n",
        "\n",
        "#import random\n",
        "\n",
        "target  = 5 #random.randint(1,10)  # 5\n",
        "attempt = 2  # 2 , 1\n",
        "\n",
        "\n",
        "while attempt>0:\n",
        "  guess = int(input(\"Guess the number: \")) # 9 , 3\n",
        "\n",
        "  if guess == target:\n",
        "    print(\"Congratulatins!! you guessed it\")\n",
        "    break\n",
        "  elif guess<target:\n",
        "    print(\"Too low\")\n",
        "  else:\n",
        "    print(\"Too high\")\n",
        "\n",
        "  attempt-=1 #attempt = attempt\n",
        "\n",
        "\n",
        "if attempt == 0:\n",
        " print(\"sorry, the number was\", target)"
      ],
      "metadata": {
        "colab": {
          "base_uri": "https://localhost:8080/"
        },
        "id": "1d4DdFh0SzZm",
        "outputId": "1a998759-e2d2-49ca-b62f-3fa3679c742a"
      },
      "execution_count": 20,
      "outputs": [
        {
          "output_type": "stream",
          "name": "stdout",
          "text": [
            "Guess the number: 9\n",
            "Too high\n",
            "Guess the number: 5\n",
            "Congratulatins!! you guessed it\n"
          ]
        }
      ]
    },
    {
      "cell_type": "code",
      "source": [
        "#finding the largest number\n",
        "\n",
        "numbers = [10,105,20,25,300,35]\n",
        "\n",
        "largest_num= numbers[0]\n",
        "\n",
        "for var in numbers:\n",
        "  if var > largest_num:  # 10>10 -> false, 105>10 -> true, 20>105 -> false, 300>105-> true, 35>300-false\n",
        "     largest_num = var  # 105 -> largest number , 305 -> L\n",
        "\n",
        "print(\"Largest number:\", largest_num)"
      ],
      "metadata": {
        "colab": {
          "base_uri": "https://localhost:8080/"
        },
        "id": "fTpjHdiiaS4u",
        "outputId": "ef962f1b-df86-40a7-ac0a-6de6bf80a4e9"
      },
      "execution_count": 22,
      "outputs": [
        {
          "output_type": "stream",
          "name": "stdout",
          "text": [
            "Largest number: 300\n"
          ]
        }
      ]
    },
    {
      "cell_type": "code",
      "source": [
        "#count the numbers of vowels in a string\n",
        "\n",
        "s = \"python prOgrammIng\" #string\n",
        "vowels = \"aeiouAEIOU\"\n",
        "count = 0\n",
        "\n",
        "for var in s:\n",
        "  if var in vowels:\n",
        "    count+=1\n",
        "print(\"Number of vowels:\", count)\n",
        "\n",
        "\n",
        "#print(type(s))\n",
        "\n"
      ],
      "metadata": {
        "colab": {
          "base_uri": "https://localhost:8080/"
        },
        "id": "Wb11fPJ5dGli",
        "outputId": "60057fc3-1a47-4587-be3e-3bdc68ca71ee"
      },
      "execution_count": 27,
      "outputs": [
        {
          "output_type": "stream",
          "name": "stdout",
          "text": [
            "Number of vowels: 4\n"
          ]
        }
      ]
    },
    {
      "cell_type": "code",
      "source": [
        "# removing duplicates from a list (not using set)\n",
        "\n",
        "numbers = [1,2,3,2,5,4,5]\n",
        "unique_num=[] # 1, 2,3,4,5\n",
        "\n",
        "for var in numbers:\n",
        "  if var not in unique_num:\n",
        "    unique_num.append(var)\n",
        "print(\"Unique number:\", unique_num)\n",
        "#print(set(numbers))\n",
        "\n"
      ],
      "metadata": {
        "colab": {
          "base_uri": "https://localhost:8080/"
        },
        "id": "Y74rukt4e7pX",
        "outputId": "719b519b-7bc5-4028-9ebd-4a9b27c8cdfc"
      },
      "execution_count": 31,
      "outputs": [
        {
          "output_type": "stream",
          "name": "stdout",
          "text": [
            "Unique number: [1, 2, 3, 5, 4]\n"
          ]
        }
      ]
    },
    {
      "cell_type": "code",
      "source": [
        "\n",
        "\n",
        "numbers = [-10,15,-20,25,-30,35]\n",
        "numbers.append(32) #only one item/value\n",
        "\n",
        "print(\"using append: \",numbers)\n",
        "a =[50,55,60]\n",
        "\n",
        "numbers.extend(a)\n",
        "print(\"using extend: \",numbers)\n",
        "\n",
        "numbers.insert(0,45)  #index,desire number\n",
        "print(\"using insert: \",numbers)"
      ],
      "metadata": {
        "colab": {
          "base_uri": "https://localhost:8080/"
        },
        "id": "0JfIk1aWNGnU",
        "outputId": "40ecf52a-0ba1-4ab1-9cee-455f35a6722d"
      },
      "execution_count": 12,
      "outputs": [
        {
          "output_type": "stream",
          "name": "stdout",
          "text": [
            "using append:  [-10, 15, -20, 25, -30, 35, 32]\n",
            "using extend:  [-10, 15, -20, 25, -30, 35, 32, 50, 55, 60]\n",
            "using insert:  [45, -10, 15, -20, 25, -30, 35, 32, 50, 55, 60]\n"
          ]
        }
      ]
    },
    {
      "cell_type": "code",
      "source": [],
      "metadata": {
        "id": "TYKl917sNLI9"
      },
      "execution_count": null,
      "outputs": []
    }
  ]
}