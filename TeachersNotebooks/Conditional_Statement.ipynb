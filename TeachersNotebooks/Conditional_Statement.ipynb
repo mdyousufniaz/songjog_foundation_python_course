{
  "nbformat": 4,
  "nbformat_minor": 0,
  "metadata": {
    "colab": {
      "provenance": []
    },
    "kernelspec": {
      "name": "python3",
      "display_name": "Python 3"
    },
    "language_info": {
      "name": "python"
    }
  },
  "cells": [
    {
      "cell_type": "code",
      "source": [
        "age = int(input(\"enter a value: \"))\n",
        "\n",
        "if age>=18:\n",
        " print(\"You are eligible to vote\")\n",
        "else:\n",
        "  print(\"You are not eligible to vote\")\n"
      ],
      "metadata": {
        "colab": {
          "base_uri": "https://localhost:8080/"
        },
        "id": "77kwqB-YjQl6",
        "outputId": "fce02816-87ef-41e3-a0e2-b02fcb6cbbec"
      },
      "execution_count": 10,
      "outputs": [
        {
          "output_type": "stream",
          "name": "stdout",
          "text": [
            "enter a value: 17\n",
            "You are not eligible to vote\n"
          ]
        }
      ]
    },
    {
      "cell_type": "code",
      "source": [
        "marks = 85\n",
        "\n",
        "if marks >= 90:\n",
        "  print(\"Grade: A\")\n",
        "elif marks >=80:\n",
        "  print(\"Grade: B\")\n",
        "elif marks >= 70:\n",
        "  print(\"Grade: C\")\n",
        "else:\n",
        "  print(\"Grade: F\")"
      ],
      "metadata": {
        "colab": {
          "base_uri": "https://localhost:8080/"
        },
        "id": "E1fSo2D1k3fN",
        "outputId": "3088877c-0f3a-46c2-dffe-5dd680d0d623"
      },
      "execution_count": 11,
      "outputs": [
        {
          "output_type": "stream",
          "name": "stdout",
          "text": [
            "Grade: B\n"
          ]
        }
      ]
    },
    {
      "cell_type": "code",
      "source": [
        "age = 17\n",
        "citizenship = \"Yes\"\n",
        "\n",
        "if age >=18:\n",
        "  if citizenship == \"No\":\n",
        "    print(\"You are eligible to vote\")\n",
        "  else:\n",
        "    print(\"You are not a citizen, so you cannot vote\")\n",
        "else:\n",
        " print(\"You are not eligible to vote\")"
      ],
      "metadata": {
        "colab": {
          "base_uri": "https://localhost:8080/"
        },
        "id": "4HfdeWCNl8Uz",
        "outputId": "dc1d5f98-d69a-4aff-98be-9f78339825f5"
      },
      "execution_count": 14,
      "outputs": [
        {
          "output_type": "stream",
          "name": "stdout",
          "text": [
            "You are not eligible to vote\n"
          ]
        }
      ]
    },
    {
      "cell_type": "code",
      "source": [
        "username = \"admin\"\n",
        "password = \"1234\"\n",
        "\n",
        "if username == \"admin\" and password ==\"1234\":\n",
        "  print(\"Access granted\")\n",
        "else:\n",
        "  print(\"Invalid credential\")"
      ],
      "metadata": {
        "colab": {
          "base_uri": "https://localhost:8080/"
        },
        "id": "0bhFhQf-mnqQ",
        "outputId": "4903a87a-9501-4f14-e5a3-be4971b9bd06"
      },
      "execution_count": 15,
      "outputs": [
        {
          "output_type": "stream",
          "name": "stdout",
          "text": [
            "Access granted\n"
          ]
        }
      ]
    },
    {
      "cell_type": "code",
      "source": [],
      "metadata": {
        "id": "cKUa9zmCnWiP"
      },
      "execution_count": null,
      "outputs": []
    }
  ]
}