{
  "nbformat": 4,
  "nbformat_minor": 0,
  "metadata": {
    "colab": {
      "provenance": []
    },
    "kernelspec": {
      "name": "python3",
      "display_name": "Python 3"
    },
    "language_info": {
      "name": "python"
    }
  },
  "cells": [
    {
      "cell_type": "markdown",
      "source": [
        "**string**"
      ],
      "metadata": {
        "id": "wJkLXoBE02N3"
      }
    },
    {
      "cell_type": "code",
      "execution_count": 2,
      "metadata": {
        "colab": {
          "base_uri": "https://localhost:8080/"
        },
        "id": "Uswy0VD40Q2e",
        "outputId": "462a6f14-d2b9-4e81-9008-dc4eb3e4e661"
      },
      "outputs": [
        {
          "output_type": "stream",
          "name": "stdout",
          "text": [
            "Bangladesh\n",
            "<class 'str'>\n"
          ]
        }
      ],
      "source": [
        "s = \"Bangladesh\" # creating a string\n",
        "print(s)\n",
        "print(type(s))"
      ]
    },
    {
      "cell_type": "code",
      "source": [
        "s = \"Bangladesh\"\n",
        "\n",
        "print(s[4]) # forward accessing characters\n",
        "print(s[7])\n",
        "\n",
        "print(s[-7]) # backward accessing characters\n",
        "\n",
        "\n",
        "print(s[0:6]) # slicing\n",
        "print(s[:6])\n",
        "print(s[6:])\n",
        "print(s[-4:])\n",
        "\n",
        "print(s[::-1])"
      ],
      "metadata": {
        "colab": {
          "base_uri": "https://localhost:8080/"
        },
        "id": "ibi5PYyY0pry",
        "outputId": "66723c24-756d-45fe-9b45-d593f676c518"
      },
      "execution_count": 15,
      "outputs": [
        {
          "output_type": "stream",
          "name": "stdout",
          "text": [
            "l\n",
            "e\n",
            "g\n",
            "Bangla\n",
            "Bangla\n",
            "desh\n",
            "desh\n",
            "hsedalgnaB\n"
          ]
        }
      ]
    },
    {
      "cell_type": "code",
      "source": [
        "s = \"dhaka\"\n",
        "# s[0]=\"D\" ; it will show error\n",
        "\n",
        "s = \"D\"+ s[1:]  #immutability ; s = \"Fuch\"+ s[3:]\n",
        "print(s)\n",
        "\n",
        "del s #delete\n",
        "\n",
        "#print(s)"
      ],
      "metadata": {
        "colab": {
          "base_uri": "https://localhost:8080/"
        },
        "id": "Ak8C0ql51u7a",
        "outputId": "7abbf779-e1f6-462a-f19e-8a0ff1bf35fb"
      },
      "execution_count": 24,
      "outputs": [
        {
          "output_type": "stream",
          "name": "stdout",
          "text": [
            "Dhaka\n"
          ]
        }
      ]
    },
    {
      "cell_type": "code",
      "source": [
        "s1 = \"Dhaka\"\n",
        "print(len(s1)) # length\n",
        "s = \"Dhaka is the capital of bangladesh\"\n",
        "print(len(s))\n"
      ],
      "metadata": {
        "colab": {
          "base_uri": "https://localhost:8080/"
        },
        "id": "pw0-mGRN32mC",
        "outputId": "192e8747-a292-492d-c15c-5c7154e7dcb5"
      },
      "execution_count": 28,
      "outputs": [
        {
          "output_type": "stream",
          "name": "stdout",
          "text": [
            "5\n",
            "34\n"
          ]
        }
      ]
    },
    {
      "cell_type": "code",
      "source": [
        "s = \"Dhaka is the capital of bangladesh\"\n",
        "s = s.replace(\"bangladesh\", \"BANGLADESH\") # update or replace\n",
        "print(s)\n"
      ],
      "metadata": {
        "colab": {
          "base_uri": "https://localhost:8080/"
        },
        "id": "E-YYEqL457En",
        "outputId": "4480a8d3-582f-43e9-edf0-5aab46da7a3a"
      },
      "execution_count": 30,
      "outputs": [
        {
          "output_type": "stream",
          "name": "stdout",
          "text": [
            "Dhaka is the capital of BANGLADESH\n"
          ]
        }
      ]
    },
    {
      "cell_type": "code",
      "source": [
        "s2= \"dhaka\"\n",
        "print(s2.upper())\n",
        "s3 =\"BANGLADESH\"\n",
        "print(s3.lower())\n"
      ],
      "metadata": {
        "colab": {
          "base_uri": "https://localhost:8080/"
        },
        "id": "tQNZPs8K64vb",
        "outputId": "c7754d70-9b0b-44da-b358-c007b7f81c42"
      },
      "execution_count": 32,
      "outputs": [
        {
          "output_type": "stream",
          "name": "stdout",
          "text": [
            "DHAKA\n",
            "bangladesh\n"
          ]
        }
      ]
    },
    {
      "cell_type": "code",
      "source": [
        "val = \"Dhaka \"+ \"Bangladesh\"\n",
        "print(val)\n",
        "\n",
        "val2 = \"python \"\n",
        "print(val2 * 5)\n",
        "\n",
        "s = \"\"\"Dhaka is the capital\n",
        " of bangladesh\"\"\"\n",
        "print(s) # multi line string\n"
      ],
      "metadata": {
        "colab": {
          "base_uri": "https://localhost:8080/"
        },
        "id": "6RdnKPaJ7J91",
        "outputId": "b9925fc2-9107-4662-f7c9-a52eeb929067"
      },
      "execution_count": 38,
      "outputs": [
        {
          "output_type": "stream",
          "name": "stdout",
          "text": [
            "Dhaka Bangladesh\n",
            "python python python python python \n",
            "Dhaka is the capital\n",
            " of bangladesh\n"
          ]
        }
      ]
    },
    {
      "cell_type": "code",
      "source": [
        "name = \"Eva\"\n",
        "age = 8\n",
        "print(f\"Name: {name}, Age: {age}\") #formating with f string\n",
        "\n",
        "val = \"My name is {} and I am {} years old.\".format(\"Niloy\", 17) # format\n",
        "val2 = \"My name is {} and I am {} years old.\".format(\"Mithila\", 13)\n",
        "print(val)\n",
        "print(val2)"
      ],
      "metadata": {
        "colab": {
          "base_uri": "https://localhost:8080/"
        },
        "id": "Uuu4QR2N7iXM",
        "outputId": "cd11a9ff-e1b8-43bd-d4cc-40cf1132df2f"
      },
      "execution_count": 43,
      "outputs": [
        {
          "output_type": "stream",
          "name": "stdout",
          "text": [
            "Name: Eva, Age: 8\n",
            "My name is Niloy and I am 17 years old.\n",
            "My name is Mithila and I am 13 years old.\n"
          ]
        }
      ]
    },
    {
      "cell_type": "markdown",
      "source": [
        "**List**"
      ],
      "metadata": {
        "id": "ZTWK-3n5-NPs"
      }
    },
    {
      "cell_type": "code",
      "source": [
        "l = [1,2, \"apple\",5.2] # list creation\n",
        "print(l)\n",
        "\n",
        "val= [5]\n",
        "print(val*5)\n",
        "\n",
        "l = [1,2, \"apple\",5.2]\n",
        "print(l[2]) # accessing\n",
        "\n",
        "l.append(123) # adding 123 to end of list\n",
        "print(l)\n",
        "\n",
        "l.insert(2,4.5) # inserting 4.5 at index 2\n",
        "print(l)\n",
        "\n",
        "l.extend([3,8,10]) #multiple elements at the end\n",
        "print(l)\n"
      ],
      "metadata": {
        "colab": {
          "base_uri": "https://localhost:8080/"
        },
        "id": "94-hHU-r8mra",
        "outputId": "ffe5b1b1-97f9-4ef6-d7df-ffe0fd2b99b2"
      },
      "execution_count": 55,
      "outputs": [
        {
          "output_type": "stream",
          "name": "stdout",
          "text": [
            "[1, 2, 'apple', 5.2]\n",
            "[5, 5, 5, 5, 5]\n",
            "apple\n",
            "[1, 2, 'apple', 5.2, 123]\n",
            "[1, 2, 4.5, 'apple', 5.2, 123]\n",
            "[1, 2, 4.5, 'apple', 5.2, 123, 3, 8, 10]\n"
          ]
        }
      ]
    },
    {
      "cell_type": "code",
      "source": [
        "l = [1,2, \"apple\",5.2]\n",
        "l.remove(5.2)\n",
        "print(l)\n",
        "\n",
        "l.pop(1) # particular index deletion\n",
        "print(l)\n",
        "\n",
        "del l\n",
        "#print(l)"
      ],
      "metadata": {
        "colab": {
          "base_uri": "https://localhost:8080/"
        },
        "id": "DGC06MO9-W98",
        "outputId": "7b98dada-60c3-4ae1-9533-35d3b6a933a9"
      },
      "execution_count": 61,
      "outputs": [
        {
          "output_type": "stream",
          "name": "stdout",
          "text": [
            "[1, 2, 'apple']\n",
            "[1, 'apple']\n"
          ]
        }
      ]
    },
    {
      "cell_type": "markdown",
      "source": [
        "**Tuple**"
      ],
      "metadata": {
        "id": "woGPKgOHBTTA"
      }
    },
    {
      "cell_type": "code",
      "source": [
        "val = ()\n",
        "print(val)\n",
        "\n",
        "val2= (1,2,5,7)\n",
        "print(type(val2))\n",
        "\n",
        "print(val2[2]) # accessing\n",
        "print(val2[1:]) #slicing\n",
        "\n",
        "\n",
        "val2= (1,2,5,7) + (10,3) #concatination\n",
        "print(val2)\n",
        "\n",
        "del val2\n",
        "# print(val2)"
      ],
      "metadata": {
        "colab": {
          "base_uri": "https://localhost:8080/"
        },
        "id": "pglczMRhAdXV",
        "outputId": "539c7aba-b0d2-4ef9-c44b-8ab9cc5c319b"
      },
      "execution_count": 70,
      "outputs": [
        {
          "output_type": "stream",
          "name": "stdout",
          "text": [
            "()\n",
            "<class 'tuple'>\n",
            "5\n",
            "(2, 5, 7)\n",
            "(1, 2, 5, 7, 10, 3)\n"
          ]
        }
      ]
    },
    {
      "cell_type": "code",
      "source": [
        "val = set([\"Dhaka\", \"Rajshahi\", \"Rangpur\"]) # list to set\n",
        "print(type(val))\n",
        "print(val)\n",
        "\n",
        "#a = set(\"Bangladesh\")\n",
        "#print(a)\n",
        "\n",
        "val2=set((\"Dhaka\", \"Rajshahi\", \"Rangpur\")) # tuple to set\n",
        "print(type(val2))\n",
        "print(val2)\n",
        "\n",
        "val3 = (\"Dhaka\", 2, \"Rangpur\")\n",
        "print(val3)"
      ],
      "metadata": {
        "colab": {
          "base_uri": "https://localhost:8080/"
        },
        "id": "c1eMoPZlBb2K",
        "outputId": "21408e11-3e1f-4988-b363-9c3f57f7274b"
      },
      "execution_count": 80,
      "outputs": [
        {
          "output_type": "stream",
          "name": "stdout",
          "text": [
            "<class 'set'>\n",
            "{'Rajshahi', 'Rangpur', 'Dhaka'}\n",
            "<class 'set'>\n",
            "{'Rajshahi', 'Rangpur', 'Dhaka'}\n",
            "('Dhaka', 2, 'Rangpur')\n"
          ]
        }
      ]
    },
    {
      "cell_type": "markdown",
      "source": [
        "**Input and Output**\n"
      ],
      "metadata": {
        "id": "aRKtRvZ1EquG"
      }
    },
    {
      "cell_type": "code",
      "source": [
        "val = input(\"Enter a input:\")\n",
        "print(val)\n",
        "\n",
        "val = int(input(\"Enter a input:\"))\n",
        "print(val)\n",
        "\n"
      ],
      "metadata": {
        "colab": {
          "base_uri": "https://localhost:8080/"
        },
        "id": "OScwcBCNDevG",
        "outputId": "f50d0ffc-427c-4ca0-e3cd-c07089ed6501"
      },
      "execution_count": 87,
      "outputs": [
        {
          "output_type": "stream",
          "name": "stdout",
          "text": [
            "Enter a input:5\n",
            "5\n",
            "Enter a input:10\n",
            "10\n"
          ]
        }
      ]
    },
    {
      "cell_type": "code",
      "source": [
        "print(\"Dhaka is the capital \\n of bangladesh\")"
      ],
      "metadata": {
        "colab": {
          "base_uri": "https://localhost:8080/"
        },
        "id": "eaH9X2X_G_Vh",
        "outputId": "d3b7ca03-350e-420b-c5e9-8561876e7b4d"
      },
      "execution_count": 89,
      "outputs": [
        {
          "output_type": "stream",
          "name": "stdout",
          "text": [
            "Dhaka is the capital\n",
            " of bangladesh\n"
          ]
        }
      ]
    },
    {
      "cell_type": "code",
      "source": [
        "name = \"Eva\"\n",
        "age = 8\n",
        "\n",
        "print(\"My name is\",name, \"I am \", age, \"years old.\")\n",
        "\n",
        "print(\"Dhaka is the capital\", end =\" \")\n",
        "print(\"of Bangladesh\")"
      ],
      "metadata": {
        "colab": {
          "base_uri": "https://localhost:8080/"
        },
        "id": "m5BOlDTBH09C",
        "outputId": "8a75ab76-99e3-4b5f-d8a8-567fd09c674c"
      },
      "execution_count": 92,
      "outputs": [
        {
          "output_type": "stream",
          "name": "stdout",
          "text": [
            "My name is Eva I am  8 years old.\n",
            "Dhaka is the capital of Bangladesh\n"
          ]
        }
      ]
    },
    {
      "cell_type": "code",
      "source": [],
      "metadata": {
        "id": "_5a-97hoIM0d"
      },
      "execution_count": null,
      "outputs": []
    }
  ]
}