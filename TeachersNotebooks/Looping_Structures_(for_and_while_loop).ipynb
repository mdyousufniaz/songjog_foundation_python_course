{
  "nbformat": 4,
  "nbformat_minor": 0,
  "metadata": {
    "colab": {
      "provenance": []
    },
    "kernelspec": {
      "name": "python3",
      "display_name": "Python 3"
    },
    "language_info": {
      "name": "python"
    }
  },
  "cells": [
    {
      "cell_type": "markdown",
      "source": [
        "**Definition:** Loops are control structures that repeat a block of code multiple times.\n",
        "\n",
        "**Purpose of Loops:** Automates repetitive tasks.\n",
        "Reduces redundancy in code.\n",
        "Makes programs efficient and easier to maintain.\n",
        "\n",
        "**Types of Loops in Python**\n",
        "for Loop: Used when the number of **iterations is known**.\n",
        "while Loop: Used when the number of **iterations is not known**, and a **condition controls the loop**.\n",
        "\n",
        "\n",
        "**For loop** used for iterating over a sequence (list, tuple, dictionary, set, string)\n",
        "\n",
        "\n"
      ],
      "metadata": {
        "id": "U8k_Kox_1Cy1"
      }
    },
    {
      "cell_type": "code",
      "source": [
        "a = [\"computer\", \"mouse\", \"wifi\"]   #list\n",
        "\n",
        "for i in a:  # here, i -> variable, a->iteration\n",
        "  print(i)\n"
      ],
      "metadata": {
        "colab": {
          "base_uri": "https://localhost:8080/"
        },
        "id": "irZ41PIV0j9g",
        "outputId": "d37225ac-569f-466e-9da5-50671ac8ae63"
      },
      "execution_count": 9,
      "outputs": [
        {
          "output_type": "stream",
          "name": "stdout",
          "text": [
            "computer\n",
            "mouse\n",
            "wifi\n"
          ]
        }
      ]
    },
    {
      "cell_type": "code",
      "source": [
        "a = \"computer\" #string\n",
        "for i in a:\n",
        " print(i)"
      ],
      "metadata": {
        "id": "pdMmpQ7c4D8y",
        "outputId": "dd7d0979-0cec-4ea3-db00-4ae739b45166",
        "colab": {
          "base_uri": "https://localhost:8080/"
        }
      },
      "execution_count": 10,
      "outputs": [
        {
          "output_type": "stream",
          "name": "stdout",
          "text": [
            "c\n",
            "o\n",
            "m\n",
            "p\n",
            "u\n",
            "t\n",
            "e\n",
            "r\n"
          ]
        }
      ]
    },
    {
      "cell_type": "code",
      "source": [
        "a = [\"computer\", \"mouse\", \"wifi\", \"tab\"]   #list\n",
        "\n",
        "for i in a:  # here, i -> variable, a->iteration\n",
        "  print(i)\n",
        "  if i == \"wifi\":\n",
        "    break           # break -> stop\n",
        "\n"
      ],
      "metadata": {
        "id": "PdQ-an9046kS",
        "outputId": "1964cb82-b0a8-4bb0-c589-5e9f59d1633b",
        "colab": {
          "base_uri": "https://localhost:8080/"
        }
      },
      "execution_count": 11,
      "outputs": [
        {
          "output_type": "stream",
          "name": "stdout",
          "text": [
            "computer\n",
            "mouse\n",
            "wifi\n"
          ]
        }
      ]
    },
    {
      "cell_type": "code",
      "source": [
        "a = [\"computer\", \"mouse\", \"wifi\", \"tab\"]   #list\n",
        "\n",
        "for i in a:  # here, i -> variable, a->iteration\n",
        "  if i == \"wifi\":\n",
        "    print(i)\n",
        "    break           # break -> stop\n",
        "    #print(i)"
      ],
      "metadata": {
        "id": "zgld2spk5xil",
        "outputId": "8e93b167-4746-4d2a-b251-71c6f050dde2",
        "colab": {
          "base_uri": "https://localhost:8080/"
        }
      },
      "execution_count": 15,
      "outputs": [
        {
          "output_type": "stream",
          "name": "stdout",
          "text": [
            "wifi\n"
          ]
        }
      ]
    },
    {
      "cell_type": "code",
      "source": [
        "a = [\"computer\", \"mouse\", \"wifi\", \"tab\"]   #list\n",
        "\n",
        "for i in a:  # here, i -> variable, a->iteration\n",
        "  if i == \"wifi\":\n",
        "    break           # break -> stop\n",
        "  print(i)"
      ],
      "metadata": {
        "id": "ADxeC8DZ6iky",
        "outputId": "f7a95836-5b26-45cb-ccfa-8ddeac0de10e",
        "colab": {
          "base_uri": "https://localhost:8080/"
        }
      },
      "execution_count": 16,
      "outputs": [
        {
          "output_type": "stream",
          "name": "stdout",
          "text": [
            "computer\n",
            "mouse\n"
          ]
        }
      ]
    },
    {
      "cell_type": "code",
      "source": [
        "a = [\"computer\", \"mouse\", \"wifi\", \"tab\"]   #list\n",
        "\n",
        "for i in a:  # here, i -> variable, a->iteration\n",
        "  if i == \"wifi\":\n",
        "    break           # break -> stop & break -> statement\n",
        "    print(i)"
      ],
      "metadata": {
        "id": "HnQIki1w673-"
      },
      "execution_count": 17,
      "outputs": []
    },
    {
      "cell_type": "code",
      "source": [
        "a = [\"computer\", \"mouse\", \"wifi\", \"tab\"]   #list\n",
        "\n",
        "for i in a:  # here, i -> variable, a->iteration\n",
        "  print(i)\n",
        "  if i == \"wifi\":\n",
        "    continue\n",
        ""
      ],
      "metadata": {
        "id": "xIbkUiO56-re",
        "outputId": "c3b82dfa-b658-4a45-cdf3-554eb2434107",
        "colab": {
          "base_uri": "https://localhost:8080/"
        }
      },
      "execution_count": 18,
      "outputs": [
        {
          "output_type": "stream",
          "name": "stdout",
          "text": [
            "computer\n",
            "mouse\n",
            "wifi\n",
            "tab\n"
          ]
        }
      ]
    },
    {
      "cell_type": "code",
      "source": [
        "a = [\"computer\", \"mouse\", \"wifi\", \"tab\"]   #list\n",
        "\n",
        "for i in a:  # here, i -> variable, a->iteration\n",
        "  if i == \"wifi\":\n",
        "    continue  # continue -> statement\n",
        "  print(i)"
      ],
      "metadata": {
        "id": "QGwr6DwB7Kl7",
        "outputId": "4801ed24-111c-4311-f5d9-dabd933955c7",
        "colab": {
          "base_uri": "https://localhost:8080/"
        }
      },
      "execution_count": 20,
      "outputs": [
        {
          "output_type": "stream",
          "name": "stdout",
          "text": [
            "computer\n",
            "mouse\n",
            "tab\n"
          ]
        }
      ]
    },
    {
      "cell_type": "code",
      "source": [
        "for i in range(10): # like indexing start with 0\n",
        " print(i)"
      ],
      "metadata": {
        "id": "MLEmYyDj7yNy",
        "outputId": "d88e63c5-07f4-438d-a537-96c1d488f631",
        "colab": {
          "base_uri": "https://localhost:8080/"
        }
      },
      "execution_count": 23,
      "outputs": [
        {
          "output_type": "stream",
          "name": "stdout",
          "text": [
            "0\n",
            "1\n",
            "2\n",
            "3\n",
            "4\n",
            "5\n",
            "6\n",
            "7\n",
            "8\n",
            "9\n"
          ]
        }
      ]
    },
    {
      "cell_type": "code",
      "source": [
        "for i in range(2,10): # like indexing start with 0 ; (start,end)\n",
        " print(i)"
      ],
      "metadata": {
        "id": "3jc6sKF-8fsP",
        "outputId": "3ecfcc45-159f-4f02-9ee8-24003aa16a5f",
        "colab": {
          "base_uri": "https://localhost:8080/"
        }
      },
      "execution_count": 24,
      "outputs": [
        {
          "output_type": "stream",
          "name": "stdout",
          "text": [
            "2\n",
            "3\n",
            "4\n",
            "5\n",
            "6\n",
            "7\n",
            "8\n",
            "9\n"
          ]
        }
      ]
    },
    {
      "cell_type": "code",
      "source": [
        "for i in range(2,20,2): # like indexing start with 0 ; (start,end,increment)\n",
        " print(i)"
      ],
      "metadata": {
        "id": "xiHyqfHu8v4u",
        "outputId": "e2c59d81-2704-4fe8-9749-8e7f3b2642e8",
        "colab": {
          "base_uri": "https://localhost:8080/"
        }
      },
      "execution_count": 25,
      "outputs": [
        {
          "output_type": "stream",
          "name": "stdout",
          "text": [
            "2\n",
            "4\n",
            "6\n",
            "8\n",
            "10\n",
            "12\n",
            "14\n",
            "16\n",
            "18\n"
          ]
        }
      ]
    },
    {
      "cell_type": "code",
      "source": [
        "for i in range(20):\n",
        "  if i == 11:\n",
        "    break\n",
        "  print(i)"
      ],
      "metadata": {
        "id": "FffJZzc59A0s",
        "outputId": "dc132778-f72c-44c4-a8a3-9b30a1496282",
        "colab": {
          "base_uri": "https://localhost:8080/"
        }
      },
      "execution_count": 27,
      "outputs": [
        {
          "output_type": "stream",
          "name": "stdout",
          "text": [
            "0\n",
            "1\n",
            "2\n",
            "3\n",
            "4\n",
            "5\n",
            "6\n",
            "7\n",
            "8\n",
            "9\n",
            "10\n"
          ]
        }
      ]
    },
    {
      "cell_type": "code",
      "source": [
        "a = [\"computer\", \"mouse\", \"wifi\", \"tab\"]\n",
        "b = [\"note\",\"pen\",\"pencil\"]\n",
        "\n",
        "for i in a:\n",
        "  for j in b:\n",
        "    print(i,j)"
      ],
      "metadata": {
        "id": "yLudnbus9-bo",
        "outputId": "63095763-af18-47da-dabb-8035339859b0",
        "colab": {
          "base_uri": "https://localhost:8080/"
        }
      },
      "execution_count": 29,
      "outputs": [
        {
          "output_type": "stream",
          "name": "stdout",
          "text": [
            "computer note\n",
            "computer pen\n",
            "computer pencil\n",
            "mouse note\n",
            "mouse pen\n",
            "mouse pencil\n",
            "wifi note\n",
            "wifi pen\n",
            "wifi pencil\n",
            "tab note\n",
            "tab pen\n",
            "tab pencil\n"
          ]
        }
      ]
    },
    {
      "cell_type": "markdown",
      "source": [
        "**While loop**"
      ],
      "metadata": {
        "id": "cI3Optim_JDj"
      }
    },
    {
      "cell_type": "code",
      "source": [
        "a = 2\n",
        "while a < 15:\n",
        " print(a)\n",
        " a+=1   # a=a+1"
      ],
      "metadata": {
        "id": "Q82s6bQN_ASH",
        "outputId": "7f2fbb83-246a-4ec2-815e-61358eb6fad4",
        "colab": {
          "base_uri": "https://localhost:8080/"
        }
      },
      "execution_count": 30,
      "outputs": [
        {
          "output_type": "stream",
          "name": "stdout",
          "text": [
            "2\n",
            "3\n",
            "4\n",
            "5\n",
            "6\n",
            "7\n",
            "8\n",
            "9\n",
            "10\n",
            "11\n",
            "12\n",
            "13\n",
            "14\n"
          ]
        }
      ]
    },
    {
      "cell_type": "code",
      "source": [
        "a = 2\n",
        "while a < 15:\n",
        " print(a)\n",
        " if a == 10:\n",
        "   break\n",
        " a+=1   # a=a+1"
      ],
      "metadata": {
        "id": "5tNEmSY4_uMo",
        "outputId": "1d5c2403-ca3e-4c4a-bcbf-642638986b11",
        "colab": {
          "base_uri": "https://localhost:8080/"
        }
      },
      "execution_count": 32,
      "outputs": [
        {
          "output_type": "stream",
          "name": "stdout",
          "text": [
            "2\n",
            "3\n",
            "4\n",
            "5\n",
            "6\n",
            "7\n",
            "8\n",
            "9\n",
            "10\n"
          ]
        }
      ]
    },
    {
      "cell_type": "code",
      "source": [
        "a = 2\n",
        "while a < 15:\n",
        " if a == 10:\n",
        "   break\n",
        "   print(a)\n",
        " a+=1   # a=a+1"
      ],
      "metadata": {
        "id": "urMSGC1PAJt1"
      },
      "execution_count": 33,
      "outputs": []
    },
    {
      "cell_type": "code",
      "source": [
        "a = 2\n",
        "while a < 15:\n",
        " if a == 10:\n",
        "   print(a)\n",
        "   break\n",
        "\n",
        " a+=1   # a=a+1"
      ],
      "metadata": {
        "id": "JUgiSv5jAeQC",
        "outputId": "fb3a6848-c65e-459e-ea67-4324a08506b5",
        "colab": {
          "base_uri": "https://localhost:8080/"
        }
      },
      "execution_count": 34,
      "outputs": [
        {
          "output_type": "stream",
          "name": "stdout",
          "text": [
            "10\n"
          ]
        }
      ]
    },
    {
      "cell_type": "code",
      "source": [
        "a = 2\n",
        "while a < 15:\n",
        "\n",
        " if a == 10:\n",
        "   print(a)\n",
        "   continue\n",
        "\n",
        " a+=1   # a=a+1"
      ],
      "metadata": {
        "id": "ACdX97izAhPK"
      },
      "execution_count": null,
      "outputs": []
    },
    {
      "cell_type": "code",
      "source": [
        "a = 2\n",
        "while a < 15:\n",
        " a+=1   # a=a+1\n",
        " if a == 10:\n",
        "   continue\n",
        " print(a)\n",
        ""
      ],
      "metadata": {
        "id": "PaR6DUBJAzb6",
        "outputId": "d84a2303-4f35-48b0-f2f6-65b60b86cdd9",
        "colab": {
          "base_uri": "https://localhost:8080/"
        }
      },
      "execution_count": 37,
      "outputs": [
        {
          "output_type": "stream",
          "name": "stdout",
          "text": [
            "3\n",
            "4\n",
            "5\n",
            "6\n",
            "7\n",
            "8\n",
            "9\n",
            "11\n",
            "12\n",
            "13\n",
            "14\n",
            "15\n"
          ]
        }
      ]
    },
    {
      "cell_type": "code",
      "source": [
        "a = 2\n",
        "while a < 15:\n",
        "\n",
        " if a == 10:\n",
        "   continue  #infinity loop\n",
        " print(a)\n",
        " a+=1   # a=a+1"
      ],
      "metadata": {
        "id": "abqgvqHQBfrk"
      },
      "execution_count": null,
      "outputs": []
    }
  ]
}