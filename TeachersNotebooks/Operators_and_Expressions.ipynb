{
  "cells": [
    {
      "cell_type": "markdown",
      "metadata": {
        "id": "wKzuwRDkO7xH"
      },
      "source": [
        "**Arithmetic operators**"
      ]
    },
    {
      "cell_type": "code",
      "execution_count": 2,
      "metadata": {
        "colab": {
          "base_uri": "https://localhost:8080/"
        },
        "id": "0OuDTyXj5dV0",
        "outputId": "ef0f6322-0f78-46ca-c7e6-b3e3b609f28b"
      },
      "outputs": [
        {
          "name": "stdout",
          "output_type": "stream",
          "text": [
            "Addition: 7\n",
            "Sub: 3\n",
            "Multiplication: 10\n",
            "Division: 2.5\n",
            "Modulus: 1\n",
            "Exponentiation: 25\n",
            "Floor division:  2\n"
          ]
        }
      ],
      "source": [
        "x=int(input(\"Enter value x: \"))\n",
        "y=int(input(\"Enter value y: \"))\n",
        "print(\"Addition:\", x+y)\n",
        "print(\"Sub:\", x-y)\n",
        "print(\"Multiplication:\", x*y)\n",
        "print(\"Division:\", x/y)\n",
        "print(\"Modulus:\", x%y)\n",
        "print(\"Exponentiation:\", x**y) #like power\n",
        "print(\"Floor division: \", x//y) # it will take floor value"
      ]
    },
    {
      "cell_type": "markdown",
      "metadata": {
        "id": "-ut1kxDMQgqv"
      },
      "source": [
        "**Assignment operators**"
      ]
    },
    {
      "cell_type": "code",
      "execution_count": null,
      "metadata": {
        "colab": {
          "base_uri": "https://localhost:8080/"
        },
        "id": "Gq8aKKSKPUIw",
        "outputId": "a0d271a4-d2bf-4ba4-ee33-3b35f7a1900b"
      },
      "outputs": [
        {
          "name": "stdout",
          "output_type": "stream",
          "text": [
            "8\n",
            "24\n",
            "1\n",
            "8\n"
          ]
        }
      ],
      "source": [
        "x=5\n",
        "x+=3  #x=x+3\n",
        "print(x)\n",
        "\n",
        "x*=3\n",
        "print(x)\n",
        "\n",
        "\n",
        "y=4\n",
        "y//=3\n",
        "print(y)\n",
        "\n",
        "z=2\n",
        "z**=3\n",
        "print(z)"
      ]
    },
    {
      "cell_type": "markdown",
      "metadata": {
        "id": "i7P4T6SbRtSb"
      },
      "source": [
        "**Comparision operators**"
      ]
    },
    {
      "cell_type": "code",
      "execution_count": null,
      "metadata": {
        "colab": {
          "base_uri": "https://localhost:8080/"
        },
        "id": "UCpfGy9fQvXa",
        "outputId": "fadb5b4f-2f21-4e6e-a0d3-1d8dc25629f9"
      },
      "outputs": [
        {
          "name": "stdout",
          "output_type": "stream",
          "text": [
            "False\n",
            "True\n",
            "True\n",
            "False\n",
            "True\n",
            "False\n"
          ]
        }
      ],
      "source": [
        "x = 2\n",
        "y = 3\n",
        "print(x==y)\n",
        "print(x!=y)  # !(not sign) -> not equal\n",
        "print(x<y)\n",
        "print(x>y)\n",
        "print(x<=y)  # like OR\n",
        "print(x>=y)  # like AND"
      ]
    },
    {
      "cell_type": "markdown",
      "metadata": {
        "id": "YTDIpcU4ScGp"
      },
      "source": [
        "**Logical Operators**"
      ]
    },
    {
      "cell_type": "code",
      "execution_count": null,
      "metadata": {
        "colab": {
          "base_uri": "https://localhost:8080/"
        },
        "id": "KnXew9OrR32a",
        "outputId": "211bfe13-f8d7-4900-f63a-bfa660c7c081"
      },
      "outputs": [
        {
          "name": "stdout",
          "output_type": "stream",
          "text": [
            "False\n",
            "True\n",
            "True\n"
          ]
        }
      ],
      "source": [
        "x =2\n",
        "print(x>3 and x<5) # and / AND\n",
        "print(x>3 or x<5)\n",
        "print(not((x>3 and x<5))) # 0 -> 1, 1 ->0; like inverse"
      ]
    },
    {
      "cell_type": "markdown",
      "metadata": {
        "id": "PnSMtQrcTSmd"
      },
      "source": [
        "**Bitwise Operators**"
      ]
    },
    {
      "cell_type": "code",
      "execution_count": null,
      "metadata": {
        "colab": {
          "base_uri": "https://localhost:8080/"
        },
        "id": "P1ZSMMpmSriw",
        "outputId": "79bab58f-d4af-4c8a-e79d-8f899c95f287"
      },
      "outputs": [
        {
          "name": "stdout",
          "output_type": "stream",
          "text": [
            "0\n",
            "1\n",
            "3\n",
            "3\n",
            "-3\n",
            "4\n",
            "4\n",
            "2\n"
          ]
        }
      ],
      "source": [
        "print(4 & 2)\n",
        "print(1&3) # if we get same (like 1) bit then it will 1, otherwise it will be 0\n",
        "\n",
        "print(1|2)\n",
        "\n",
        "print(1^2)  # ^-> XOR sign\n",
        "\n",
        "print(~2)\n",
        "\n",
        "print(2<<1) # 1 bit left shit\n",
        "print(8>>1) # 1 bit right shift\n",
        "print(8>>2) # 2 bit right shift"
      ]
    },
    {
      "cell_type": "markdown",
      "metadata": {
        "id": "L78g_2GJaA9M"
      },
      "source": [
        "**Identity Operators**"
      ]
    },
    {
      "cell_type": "code",
      "execution_count": null,
      "metadata": {
        "colab": {
          "base_uri": "https://localhost:8080/"
        },
        "id": "R86VzySlUrtz",
        "outputId": "4d3893e2-f312-4c91-d299-42344bc881d2"
      },
      "outputs": [
        {
          "name": "stdout",
          "output_type": "stream",
          "text": [
            "True\n",
            "False\n",
            "False\n",
            "True\n"
          ]
        }
      ],
      "source": [
        "x= [1,2,5]\n",
        "y=[1,2,5]\n",
        "z=y # same value exits in z\n",
        "\n",
        "print(z is y)\n",
        "print(z is not y)\n",
        "\n",
        "\n",
        "print(z is x)\n",
        "print(z is not x)"
      ]
    },
    {
      "cell_type": "markdown",
      "metadata": {
        "id": "-c9AHnVNa6up"
      },
      "source": [
        "**Membership Operators**"
      ]
    },
    {
      "cell_type": "code",
      "execution_count": null,
      "metadata": {
        "colab": {
          "base_uri": "https://localhost:8080/"
        },
        "id": "jeSARVEQaUdz",
        "outputId": "d7ee3c53-b349-4bfd-fd8b-4f2b751afe58"
      },
      "outputs": [
        {
          "name": "stdout",
          "output_type": "stream",
          "text": [
            "True\n",
            "True\n"
          ]
        }
      ],
      "source": [
        "x= [1,2,5]\n",
        "print(1 in x)\n",
        "print(7 not in x)"
      ]
    },
    {
      "cell_type": "code",
      "execution_count": null,
      "metadata": {
        "colab": {
          "base_uri": "https://localhost:8080/"
        },
        "id": "OLLrBQztbGS1",
        "outputId": "3cad1403-d4ff-4446-abda-bee0403fbd34"
      },
      "outputs": [
        {
          "name": "stdout",
          "output_type": "stream",
          "text": [
            "7\n"
          ]
        }
      ],
      "source": [
        "x =10\n",
        "print((x % 3) * 2 + 5)"
      ]
    },
    {
      "cell_type": "code",
      "execution_count": null,
      "metadata": {
        "id": "OKSVkyn0eru7"
      },
      "outputs": [],
      "source": []
    }
  ],
  "metadata": {
    "colab": {
      "provenance": []
    },
    "kernelspec": {
      "display_name": ".venv",
      "language": "python",
      "name": "python3"
    },
    "language_info": {
      "codemirror_mode": {
        "name": "ipython",
        "version": 3
      },
      "file_extension": ".py",
      "mimetype": "text/x-python",
      "name": "python",
      "nbconvert_exporter": "python",
      "pygments_lexer": "ipython3",
      "version": "3.12.5"
    }
  },
  "nbformat": 4,
  "nbformat_minor": 0
}
