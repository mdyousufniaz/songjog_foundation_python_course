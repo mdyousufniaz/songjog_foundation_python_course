{
  "nbformat": 4,
  "nbformat_minor": 0,
  "metadata": {
    "colab": {
      "provenance": [],
      "gpuType": "T4"
    },
    "kernelspec": {
      "name": "python3",
      "display_name": "Python 3"
    },
    "language_info": {
      "name": "python"
    },
    "accelerator": "GPU"
  },
  "cells": [
    {
      "cell_type": "markdown",
      "source": [
        "## **\"First Program\"**"
      ],
      "metadata": {
        "id": "Ji0J64lMP_4l"
      }
    },
    {
      "cell_type": "code",
      "source": [
        "print(\"Hello World\")"
      ],
      "metadata": {
        "colab": {
          "base_uri": "https://localhost:8080/"
        },
        "id": "TvGev_98QIBi",
        "outputId": "614bc5f6-7164-473c-e9ae-e0818a8442d9"
      },
      "execution_count": null,
      "outputs": [
        {
          "output_type": "stream",
          "name": "stdout",
          "text": [
            "Hello World\n"
          ]
        }
      ]
    },
    {
      "cell_type": "markdown",
      "source": [
        "**Python Programming**"
      ],
      "metadata": {
        "id": "qBJAgz19iXkf"
      }
    },
    {
      "cell_type": "code",
      "source": [
        "a = 3  #int\n",
        "b = 2j+a #complex\n",
        "c= 4.5 #float\n",
        "\n",
        "print(type(a))\n",
        "print(type(b))\n",
        "print(type(c))\n",
        "\n",
        "\n",
        "a, b, c = 3, 2j+a, 4.5\n",
        "\n",
        "print(a, b, c)\n",
        "\n",
        "\n",
        "\n"
      ],
      "metadata": {
        "colab": {
          "base_uri": "https://localhost:8080/"
        },
        "id": "uDZI_wu6vIAl",
        "outputId": "2f56ee6c-ba0d-4203-faa3-94fc76d46a15"
      },
      "execution_count": null,
      "outputs": [
        {
          "output_type": "stream",
          "name": "stdout",
          "text": [
            "<class 'int'>\n",
            "<class 'complex'>\n",
            "<class 'float'>\n",
            "3 (3+2j) 4.5\n"
          ]
        }
      ]
    },
    {
      "cell_type": "markdown",
      "source": [
        "**Dictionary**"
      ],
      "metadata": {
        "id": "whRMSF6PyH9S"
      }
    },
    {
      "cell_type": "code",
      "source": [
        " a = {1: 'Dhaka', 2: 'Bangladesh'} # dictionary creation\n",
        " print(a)\n",
        "\n",
        "print(a[2]) # Accessing Dictionary Items\n",
        "\n",
        "a[3] = \"rajshahi\" #Adding and Updating Dictionary Items\n",
        "\n",
        "print(a)\n",
        "#val = a.pop(1) #Removing Dictionary Items\n",
        "# print(val)\n",
        "\n",
        "del a[2]#Removing Dictionary Items\n",
        "print(a)\n"
      ],
      "metadata": {
        "colab": {
          "base_uri": "https://localhost:8080/"
        },
        "id": "bUVCBI9byNUq",
        "outputId": "a6be4e55-5554-467f-b22e-a1c9ad755898"
      },
      "execution_count": null,
      "outputs": [
        {
          "output_type": "stream",
          "name": "stdout",
          "text": [
            "{1: 'Dhaka', 2: 'Bangladesh'}\n",
            "Bangladesh\n",
            "{1: 'Dhaka', 2: 'Bangladesh', 3: 'rajshahi'}\n",
            "{1: 'Dhaka', 3: 'rajshahi'}\n"
          ]
        }
      ]
    },
    {
      "cell_type": "code",
      "source": [
        "b = {1:\"\", 2: 100, 3: {\"A\" : \"badda\", \"B\":\"Gulshan\"}} #Nested Dictionaries\n",
        "print(b)\n",
        "\n",
        "print(b[3][\"B\"])\n",
        "del b[3] #delete\n",
        "print(b)\n",
        "\n",
        "b.pop (1) #delete\n",
        "\n",
        "print(b)"
      ],
      "metadata": {
        "colab": {
          "base_uri": "https://localhost:8080/"
        },
        "id": "sw-irO-XyPI7",
        "outputId": "ea1fb26a-ec90-49e1-869b-eaa099605f00"
      },
      "execution_count": null,
      "outputs": [
        {
          "output_type": "stream",
          "name": "stdout",
          "text": [
            "{1: '', 2: 100, 3: {'A': 'badda', 'B': 'Gulshan'}}\n",
            "Gulshan\n",
            "{1: '', 2: 100}\n",
            "{2: 100}\n"
          ]
        }
      ]
    },
    {
      "cell_type": "markdown",
      "source": [
        "**Boolean**"
      ],
      "metadata": {
        "id": "qGfo8VL41Ufw"
      }
    },
    {
      "cell_type": "code",
      "source": [
        "a = True\n",
        "b =False\n",
        "print(type(a))"
      ],
      "metadata": {
        "colab": {
          "base_uri": "https://localhost:8080/"
        },
        "id": "QscEmxSh2eyV",
        "outputId": "5617ddf4-cebf-4fca-eb55-f4d229054b25"
      },
      "execution_count": null,
      "outputs": [
        {
          "output_type": "stream",
          "name": "stdout",
          "text": [
            "<class 'bool'>\n"
          ]
        }
      ]
    },
    {
      "cell_type": "markdown",
      "source": [
        "**Set**"
      ],
      "metadata": {
        "id": "fM_1ur4u3AC3"
      }
    },
    {
      "cell_type": "code",
      "source": [
        "a = set(\"Bangladesh\") # How to Create a Set\n",
        "print(a)\n",
        "\n",
        "a.add((\"dhaka\", \"rajshahi\"))#Adding and Updating Items\n",
        "a.add(\"chittagong\")\n",
        "print(a)\n",
        "\n",
        "b=set(\"dhaka\")\n",
        "print(b)\n",
        "\n",
        "b.remove(\"a\") #Removing Items\n",
        "b.discard(\"h\")\n",
        "print(b)\n",
        "\n",
        "c = set([1.5,2,6,7])\n",
        "c.add(5)\n",
        "print(c)"
      ],
      "metadata": {
        "colab": {
          "base_uri": "https://localhost:8080/"
        },
        "id": "Sj2rqgl-3B2g",
        "outputId": "a240bfd8-30ab-47f3-d689-766706272aea"
      },
      "execution_count": null,
      "outputs": [
        {
          "output_type": "stream",
          "name": "stdout",
          "text": [
            "{'g', 'a', 'd', 'e', 'n', 'h', 'l', 'B', 's'}\n",
            "{('dhaka', 'rajshahi'), 'g', 'a', 'd', 'chittagong', 'e', 'n', 'h', 'l', 'B', 's'}\n",
            "{'k', 'd', 'h', 'a'}\n",
            "{'k', 'd'}\n",
            "{1.5, 2, 5, 6, 7}\n"
          ]
        }
      ]
    },
    {
      "cell_type": "code",
      "source": [
        "s = {1.5, 2, 5, 6, 7}\n",
        "print(s)\n",
        "print(type(s))"
      ],
      "metadata": {
        "colab": {
          "base_uri": "https://localhost:8080/"
        },
        "id": "L_kaP04FV92M",
        "outputId": "d0075011-7108-41a4-a194-15034a6ed390"
      },
      "execution_count": 1,
      "outputs": [
        {
          "output_type": "stream",
          "name": "stdout",
          "text": [
            "{1.5, 2, 5, 6, 7}\n",
            "<class 'set'>\n"
          ]
        }
      ]
    },
    {
      "cell_type": "code",
      "source": [],
      "metadata": {
        "id": "CPFmWVYHyvmz"
      },
      "execution_count": null,
      "outputs": []
    }
  ]
}